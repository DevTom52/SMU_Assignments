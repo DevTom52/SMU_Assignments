{
 "cells": [
  {
   "cell_type": "markdown",
   "metadata": {},
   "source": [
    "### Note\n",
    "* Instructions have been included for each segment. You do not have to follow them exactly, but they are included to help you think through the steps."
   ]
  },
  {
   "cell_type": "code",
   "execution_count": 36,
   "metadata": {},
   "outputs": [
    {
     "data": {
      "text/html": [
       "<div>\n",
       "<style scoped>\n",
       "    .dataframe tbody tr th:only-of-type {\n",
       "        vertical-align: middle;\n",
       "    }\n",
       "\n",
       "    .dataframe tbody tr th {\n",
       "        vertical-align: top;\n",
       "    }\n",
       "\n",
       "    .dataframe thead th {\n",
       "        text-align: right;\n",
       "    }\n",
       "</style>\n",
       "<table border=\"1\" class=\"dataframe\">\n",
       "  <thead>\n",
       "    <tr style=\"text-align: right;\">\n",
       "      <th></th>\n",
       "      <th>Purchase ID</th>\n",
       "      <th>SN</th>\n",
       "      <th>Age</th>\n",
       "      <th>Gender</th>\n",
       "      <th>Item ID</th>\n",
       "      <th>Item Name</th>\n",
       "      <th>Price</th>\n",
       "    </tr>\n",
       "  </thead>\n",
       "  <tbody>\n",
       "    <tr>\n",
       "      <th>0</th>\n",
       "      <td>0</td>\n",
       "      <td>Lisim78</td>\n",
       "      <td>20</td>\n",
       "      <td>Male</td>\n",
       "      <td>108</td>\n",
       "      <td>Extraction, Quickblade Of Trembling Hands</td>\n",
       "      <td>3.53</td>\n",
       "    </tr>\n",
       "    <tr>\n",
       "      <th>1</th>\n",
       "      <td>1</td>\n",
       "      <td>Lisovynya38</td>\n",
       "      <td>40</td>\n",
       "      <td>Male</td>\n",
       "      <td>143</td>\n",
       "      <td>Frenzied Scimitar</td>\n",
       "      <td>1.56</td>\n",
       "    </tr>\n",
       "    <tr>\n",
       "      <th>2</th>\n",
       "      <td>2</td>\n",
       "      <td>Ithergue48</td>\n",
       "      <td>24</td>\n",
       "      <td>Male</td>\n",
       "      <td>92</td>\n",
       "      <td>Final Critic</td>\n",
       "      <td>4.88</td>\n",
       "    </tr>\n",
       "    <tr>\n",
       "      <th>3</th>\n",
       "      <td>3</td>\n",
       "      <td>Chamassasya86</td>\n",
       "      <td>24</td>\n",
       "      <td>Male</td>\n",
       "      <td>100</td>\n",
       "      <td>Blindscythe</td>\n",
       "      <td>3.27</td>\n",
       "    </tr>\n",
       "    <tr>\n",
       "      <th>4</th>\n",
       "      <td>4</td>\n",
       "      <td>Iskosia90</td>\n",
       "      <td>23</td>\n",
       "      <td>Male</td>\n",
       "      <td>131</td>\n",
       "      <td>Fury</td>\n",
       "      <td>1.44</td>\n",
       "    </tr>\n",
       "  </tbody>\n",
       "</table>\n",
       "</div>"
      ],
      "text/plain": [
       "   Purchase ID             SN  Age Gender  Item ID  \\\n",
       "0            0        Lisim78   20   Male      108   \n",
       "1            1    Lisovynya38   40   Male      143   \n",
       "2            2     Ithergue48   24   Male       92   \n",
       "3            3  Chamassasya86   24   Male      100   \n",
       "4            4      Iskosia90   23   Male      131   \n",
       "\n",
       "                                   Item Name  Price  \n",
       "0  Extraction, Quickblade Of Trembling Hands   3.53  \n",
       "1                          Frenzied Scimitar   1.56  \n",
       "2                               Final Critic   4.88  \n",
       "3                                Blindscythe   3.27  \n",
       "4                                       Fury   1.44  "
      ]
     },
     "execution_count": 36,
     "metadata": {},
     "output_type": "execute_result"
    }
   ],
   "source": [
    "# Dependencies and Setup\n",
    "import pandas as pd\n",
    "import os\n",
    "\n",
    "# File to Load (Remember to Change These)\n",
    "path = os.path.join(\"Resources\",\"purchase_data.csv\")\n",
    "\n",
    "# Read Purchasing File and store into Pandas data frame\n",
    "df = pd.read_csv(path)\n",
    "df.head()"
   ]
  },
  {
   "cell_type": "markdown",
   "metadata": {},
   "source": [
    "## Player Count"
   ]
  },
  {
   "cell_type": "markdown",
   "metadata": {},
   "source": [
    "* Display the total number of players\n"
   ]
  },
  {
   "cell_type": "code",
   "execution_count": 37,
   "metadata": {},
   "outputs": [
    {
     "name": "stdout",
     "output_type": "stream",
     "text": [
      "Player Count: 576\n"
     ]
    }
   ],
   "source": [
    "#Consolidate non-duplicate SN stings and count strings \n",
    "players = df[\"SN\"].unique()\n",
    "total_count = len(players)\n",
    "\n",
    "print(f'Player Count: {total_count}')\n"
   ]
  },
  {
   "cell_type": "markdown",
   "metadata": {},
   "source": [
    "## Purchasing Analysis (Total)"
   ]
  },
  {
   "cell_type": "markdown",
   "metadata": {},
   "source": [
    "* Run basic calculations to obtain number of unique items, average price, etc.\n",
    "\n",
    "\n",
    "* Create a summary data frame to hold the results\n",
    "\n",
    "\n",
    "* Optional: give the displayed data cleaner formatting\n",
    "\n",
    "\n",
    "* Display the summary data frame\n"
   ]
  },
  {
   "cell_type": "code",
   "execution_count": 38,
   "metadata": {
    "scrolled": true
   },
   "outputs": [
    {
     "data": {
      "text/html": [
       "<div>\n",
       "<style scoped>\n",
       "    .dataframe tbody tr th:only-of-type {\n",
       "        vertical-align: middle;\n",
       "    }\n",
       "\n",
       "    .dataframe tbody tr th {\n",
       "        vertical-align: top;\n",
       "    }\n",
       "\n",
       "    .dataframe thead th {\n",
       "        text-align: right;\n",
       "    }\n",
       "</style>\n",
       "<table border=\"1\" class=\"dataframe\">\n",
       "  <thead>\n",
       "    <tr style=\"text-align: right;\">\n",
       "      <th></th>\n",
       "      <th>Number_of_Unique_Items</th>\n",
       "      <th>Average_Price</th>\n",
       "      <th>Number_of_Purchases</th>\n",
       "      <th>Total_Revenue</th>\n",
       "    </tr>\n",
       "  </thead>\n",
       "  <tbody>\n",
       "    <tr>\n",
       "      <th>0</th>\n",
       "      <td>183</td>\n",
       "      <td>3.05</td>\n",
       "      <td>780</td>\n",
       "      <td>2379.77</td>\n",
       "    </tr>\n",
       "  </tbody>\n",
       "</table>\n",
       "</div>"
      ],
      "text/plain": [
       "   Number_of_Unique_Items  Average_Price  Number_of_Purchases  Total_Revenue\n",
       "0                     183           3.05                  780        2379.77"
      ]
     },
     "execution_count": 38,
     "metadata": {},
     "output_type": "execute_result"
    }
   ],
   "source": [
    "#Consolidate non-duplicate ID's in Item ID Column and find total string count in item variable\n",
    "items = df[\"Item ID\"].unique()\n",
    "unique_items = len(items)\n",
    "\n",
    "#Find mean, pirchases count, and total using the built in methods\n",
    "average_price = df['Price'].mean()\n",
    "\n",
    "purchases = df['Purchase ID'].count()\n",
    "\n",
    "total_revenue = df['Price'].sum()\n",
    "\n",
    "#create data frame using the above variable and print head and first row\n",
    "summary_data = [(unique_items, round(average_price,2), purchases, total_revenue)]\n",
    "summary_df = pd.DataFrame(summary_data,columns=[\"Number_of_Unique_Items\", \"Average_Price\", \"Number_of_Purchases\", \"Total_Revenue\"])\n",
    "summary_df.head()\n"
   ]
  },
  {
   "cell_type": "markdown",
   "metadata": {},
   "source": [
    "## Gender Demographics"
   ]
  },
  {
   "cell_type": "markdown",
   "metadata": {},
   "source": [
    "* Percentage and Count of Male Players\n",
    "\n",
    "\n",
    "* Percentage and Count of Female Players\n",
    "\n",
    "\n",
    "* Percentage and Count of Other / Non-Disclosed\n",
    "\n",
    "\n"
   ]
  },
  {
   "cell_type": "code",
   "execution_count": 39,
   "metadata": {},
   "outputs": [
    {
     "data": {
      "text/html": [
       "<style  type=\"text/css\" >\n",
       "</style><table id=\"T_1999ee42_da38_11e9_932d_f40f241f39e4\" ><thead>    <tr>        <th class=\"blank level0\" ></th>        <th class=\"col_heading level0 col0\" >Total Count</th>        <th class=\"col_heading level0 col1\" >% of Players</th>    </tr>    <tr>        <th class=\"index_name level0\" >Gender</th>        <th class=\"blank\" ></th>        <th class=\"blank\" ></th>    </tr></thead><tbody>\n",
       "                <tr>\n",
       "                        <th id=\"T_1999ee42_da38_11e9_932d_f40f241f39e4level0_row0\" class=\"row_heading level0 row0\" >Male</th>\n",
       "                        <td id=\"T_1999ee42_da38_11e9_932d_f40f241f39e4row0_col0\" class=\"data row0 col0\" >484</td>\n",
       "                        <td id=\"T_1999ee42_da38_11e9_932d_f40f241f39e4row0_col1\" class=\"data row0 col1\" >84.0278</td>\n",
       "            </tr>\n",
       "            <tr>\n",
       "                        <th id=\"T_1999ee42_da38_11e9_932d_f40f241f39e4level0_row1\" class=\"row_heading level0 row1\" >Female</th>\n",
       "                        <td id=\"T_1999ee42_da38_11e9_932d_f40f241f39e4row1_col0\" class=\"data row1 col0\" >81</td>\n",
       "                        <td id=\"T_1999ee42_da38_11e9_932d_f40f241f39e4row1_col1\" class=\"data row1 col1\" >14.0625</td>\n",
       "            </tr>\n",
       "            <tr>\n",
       "                        <th id=\"T_1999ee42_da38_11e9_932d_f40f241f39e4level0_row2\" class=\"row_heading level0 row2\" >Other / Non-Disclosed</th>\n",
       "                        <td id=\"T_1999ee42_da38_11e9_932d_f40f241f39e4row2_col0\" class=\"data row2 col0\" >11</td>\n",
       "                        <td id=\"T_1999ee42_da38_11e9_932d_f40f241f39e4row2_col1\" class=\"data row2 col1\" >1.90972</td>\n",
       "            </tr>\n",
       "    </tbody></table>"
      ],
      "text/plain": [
       "<pandas.io.formats.style.Styler at 0x11b824eb8>"
      ]
     },
     "execution_count": 39,
     "metadata": {},
     "output_type": "execute_result"
    }
   ],
   "source": [
    "no_dup_rows = df.drop_duplicates(['SN'], keep = 'last')\n",
    "total_players = no_dup_rows['SN'].count()\n",
    "\n",
    "gender_count = no_dup_rows['Gender'].value_counts().reset_index()\n",
    "gender_count\n",
    "\n",
    "#use total_players variable and add column for percent of players\n",
    "gender_count['% of Players'] = gender_count['Gender']/total_players * 100\n",
    "\n",
    "#column rename using rename method\n",
    "gender_count.rename(columns = {'index': 'Gender', 'Gender': 'Total Count'}, inplace = True)\n",
    "\n",
    "#set_index method for readabity\n",
    "gender_count.set_index(['Gender'], inplace = True)\n",
    "\n",
    "#format table\n",
    "gender_count.style.format({\"Percentage of Players\": \"{:.2f}%\"})\n"
   ]
  },
  {
   "cell_type": "markdown",
   "metadata": {},
   "source": [
    "\n",
    "## Purchasing Analysis (Gender)"
   ]
  },
  {
   "cell_type": "markdown",
   "metadata": {},
   "source": [
    "* Run basic calculations to obtain purchase count, avg. purchase price, avg. purchase total per person etc. by gender\n",
    "\n",
    "\n",
    "\n",
    "\n",
    "* Create a summary data frame to hold the results\n",
    "\n",
    "\n",
    "* Optional: give the displayed data cleaner formatting\n",
    "\n",
    "\n",
    "* Display the summary data frame"
   ]
  },
  {
   "cell_type": "code",
   "execution_count": 42,
   "metadata": {
    "scrolled": true
   },
   "outputs": [
    {
     "data": {
      "text/html": [
       "<style  type=\"text/css\" >\n",
       "</style><table id=\"T_104b2134_da39_11e9_932d_f40f241f39e4\" ><thead>    <tr>        <th class=\"blank level0\" ></th>        <th class=\"col_heading level0 col0\" >Purchase count</th>        <th class=\"col_heading level0 col1\" >Total Purchase Value</th>        <th class=\"col_heading level0 col2\" >Average Purchase Price</th>        <th class=\"col_heading level0 col3\" >Avg total purchase per person</th>    </tr>    <tr>        <th class=\"index_name level0\" >Gender</th>        <th class=\"blank\" ></th>        <th class=\"blank\" ></th>        <th class=\"blank\" ></th>        <th class=\"blank\" ></th>    </tr></thead><tbody>\n",
       "                <tr>\n",
       "                        <th id=\"T_104b2134_da39_11e9_932d_f40f241f39e4level0_row0\" class=\"row_heading level0 row0\" >Female</th>\n",
       "                        <td id=\"T_104b2134_da39_11e9_932d_f40f241f39e4row0_col0\" class=\"data row0 col0\" >113</td>\n",
       "                        <td id=\"T_104b2134_da39_11e9_932d_f40f241f39e4row0_col1\" class=\"data row0 col1\" >$361.94</td>\n",
       "                        <td id=\"T_104b2134_da39_11e9_932d_f40f241f39e4row0_col2\" class=\"data row0 col2\" >$3.20</td>\n",
       "                        <td id=\"T_104b2134_da39_11e9_932d_f40f241f39e4row0_col3\" class=\"data row0 col3\" >$4.47</td>\n",
       "            </tr>\n",
       "            <tr>\n",
       "                        <th id=\"T_104b2134_da39_11e9_932d_f40f241f39e4level0_row1\" class=\"row_heading level0 row1\" >Male</th>\n",
       "                        <td id=\"T_104b2134_da39_11e9_932d_f40f241f39e4row1_col0\" class=\"data row1 col0\" >652</td>\n",
       "                        <td id=\"T_104b2134_da39_11e9_932d_f40f241f39e4row1_col1\" class=\"data row1 col1\" >$1967.64</td>\n",
       "                        <td id=\"T_104b2134_da39_11e9_932d_f40f241f39e4row1_col2\" class=\"data row1 col2\" >$3.02</td>\n",
       "                        <td id=\"T_104b2134_da39_11e9_932d_f40f241f39e4row1_col3\" class=\"data row1 col3\" >$4.07</td>\n",
       "            </tr>\n",
       "            <tr>\n",
       "                        <th id=\"T_104b2134_da39_11e9_932d_f40f241f39e4level0_row2\" class=\"row_heading level0 row2\" >Other / Non-Disclosed</th>\n",
       "                        <td id=\"T_104b2134_da39_11e9_932d_f40f241f39e4row2_col0\" class=\"data row2 col0\" >15</td>\n",
       "                        <td id=\"T_104b2134_da39_11e9_932d_f40f241f39e4row2_col1\" class=\"data row2 col1\" >$50.19</td>\n",
       "                        <td id=\"T_104b2134_da39_11e9_932d_f40f241f39e4row2_col2\" class=\"data row2 col2\" >$3.35</td>\n",
       "                        <td id=\"T_104b2134_da39_11e9_932d_f40f241f39e4row2_col3\" class=\"data row2 col3\" >$4.56</td>\n",
       "            </tr>\n",
       "    </tbody></table>"
      ],
      "text/plain": [
       "<pandas.io.formats.style.Styler at 0x11b920e80>"
      ]
     },
     "execution_count": 42,
     "metadata": {},
     "output_type": "execute_result"
    }
   ],
   "source": [
    "# count purchas by the gender and store to variavble\n",
    "pur_count_by_gen = pd.DataFrame(df.groupby('Gender')['Gender'].count())\n",
    "# sum gender and price with sum method\n",
    "total_pur_by_gen = pd.DataFrame(df.groupby('Gender')['Price'].sum())\n",
    "#combine above two data frames\n",
    "pur_analysis_gen = pd.merge(pur_count_by_gen, total_pur_by_gen, left_index = True, right_index = True)\n",
    "#column rename\n",
    "pur_analysis_gen.rename(columns = {'Gender': 'Purchase count', 'Price':'Total Purchase Value'}, inplace=True)\n",
    "#add average purchase price column \n",
    "pur_analysis_gen['Average Purchase Price'] = pur_analysis_gen['Total Purchase Value']/pur_analysis_gen['Purchase count']\n",
    "#combine gender counts table \n",
    "pur_analysis_gen = pur_analysis_gen.merge(gender_count, left_index = True, right_index = True)\n",
    "# add Average total purchase per person column\n",
    "pur_analysis_gen['Avg total purchase per person'] = pur_analysis_gen['Total Purchase Value']/pur_analysis_gen['Total Count']\n",
    "pur_analysis_gen\n",
    "#delete unneeded columns \n",
    "del pur_analysis_gen['% of Players']\n",
    "del pur_analysis_gen['Total Count']\n",
    " \n",
    "#reset index and format table to 2 decimal places\n",
    "pur_analysis_gen.style.format({'Total Purchase Value': '${:.2f}', 'Average Purchase Price': '${:.2f}', 'Avg total purchase per person': '${:.2f}'})\n",
    "  \n"
   ]
  },
  {
   "cell_type": "markdown",
   "metadata": {},
   "source": [
    "* Establish bins for ages\n",
    "\n",
    "\n",
    "* Categorize the existing players using the age bins. Hint: use pd.cut()\n",
    "\n",
    "\n",
    "* Calculate the numbers and percentages by age group\n",
    "\n",
    "\n",
    "* Create a summary data frame to hold the results\n",
    "\n",
    "\n",
    "* Optional: round the percentage column to two decimal points\n",
    "\n",
    "\n",
    "* Display Age Demographics Table\n"
   ]
  },
  {
   "cell_type": "code",
   "execution_count": 7,
   "metadata": {},
   "outputs": [
    {
     "data": {
      "text/html": [
       "<style  type=\"text/css\" >\n",
       "</style><table id=\"T_3b7eb28e_da30_11e9_932d_f40f241f39e4\" ><thead>    <tr>        <th class=\"blank level0\" ></th>        <th class=\"col_heading level0 col0\" >Percentage of Players</th>        <th class=\"col_heading level0 col1\" >Total Count</th>    </tr>    <tr>        <th class=\"index_name level0\" >Age</th>        <th class=\"blank\" ></th>        <th class=\"blank\" ></th>    </tr></thead><tbody>\n",
       "                <tr>\n",
       "                        <th id=\"T_3b7eb28e_da30_11e9_932d_f40f241f39e4level0_row0\" class=\"row_heading level0 row0\" ><10</th>\n",
       "                        <td id=\"T_3b7eb28e_da30_11e9_932d_f40f241f39e4row0_col0\" class=\"data row0 col0\" >2.95%</td>\n",
       "                        <td id=\"T_3b7eb28e_da30_11e9_932d_f40f241f39e4row0_col1\" class=\"data row0 col1\" >17</td>\n",
       "            </tr>\n",
       "            <tr>\n",
       "                        <th id=\"T_3b7eb28e_da30_11e9_932d_f40f241f39e4level0_row1\" class=\"row_heading level0 row1\" >10-14</th>\n",
       "                        <td id=\"T_3b7eb28e_da30_11e9_932d_f40f241f39e4row1_col0\" class=\"data row1 col0\" >3.82%</td>\n",
       "                        <td id=\"T_3b7eb28e_da30_11e9_932d_f40f241f39e4row1_col1\" class=\"data row1 col1\" >22</td>\n",
       "            </tr>\n",
       "            <tr>\n",
       "                        <th id=\"T_3b7eb28e_da30_11e9_932d_f40f241f39e4level0_row2\" class=\"row_heading level0 row2\" >15-19</th>\n",
       "                        <td id=\"T_3b7eb28e_da30_11e9_932d_f40f241f39e4row2_col0\" class=\"data row2 col0\" >18.58%</td>\n",
       "                        <td id=\"T_3b7eb28e_da30_11e9_932d_f40f241f39e4row2_col1\" class=\"data row2 col1\" >107</td>\n",
       "            </tr>\n",
       "            <tr>\n",
       "                        <th id=\"T_3b7eb28e_da30_11e9_932d_f40f241f39e4level0_row3\" class=\"row_heading level0 row3\" >20-24</th>\n",
       "                        <td id=\"T_3b7eb28e_da30_11e9_932d_f40f241f39e4row3_col0\" class=\"data row3 col0\" >44.79%</td>\n",
       "                        <td id=\"T_3b7eb28e_da30_11e9_932d_f40f241f39e4row3_col1\" class=\"data row3 col1\" >258</td>\n",
       "            </tr>\n",
       "            <tr>\n",
       "                        <th id=\"T_3b7eb28e_da30_11e9_932d_f40f241f39e4level0_row4\" class=\"row_heading level0 row4\" >25-29</th>\n",
       "                        <td id=\"T_3b7eb28e_da30_11e9_932d_f40f241f39e4row4_col0\" class=\"data row4 col0\" >13.37%</td>\n",
       "                        <td id=\"T_3b7eb28e_da30_11e9_932d_f40f241f39e4row4_col1\" class=\"data row4 col1\" >77</td>\n",
       "            </tr>\n",
       "            <tr>\n",
       "                        <th id=\"T_3b7eb28e_da30_11e9_932d_f40f241f39e4level0_row5\" class=\"row_heading level0 row5\" >30-34</th>\n",
       "                        <td id=\"T_3b7eb28e_da30_11e9_932d_f40f241f39e4row5_col0\" class=\"data row5 col0\" >9.03%</td>\n",
       "                        <td id=\"T_3b7eb28e_da30_11e9_932d_f40f241f39e4row5_col1\" class=\"data row5 col1\" >52</td>\n",
       "            </tr>\n",
       "            <tr>\n",
       "                        <th id=\"T_3b7eb28e_da30_11e9_932d_f40f241f39e4level0_row6\" class=\"row_heading level0 row6\" >35-39</th>\n",
       "                        <td id=\"T_3b7eb28e_da30_11e9_932d_f40f241f39e4row6_col0\" class=\"data row6 col0\" >5.38%</td>\n",
       "                        <td id=\"T_3b7eb28e_da30_11e9_932d_f40f241f39e4row6_col1\" class=\"data row6 col1\" >31</td>\n",
       "            </tr>\n",
       "            <tr>\n",
       "                        <th id=\"T_3b7eb28e_da30_11e9_932d_f40f241f39e4level0_row7\" class=\"row_heading level0 row7\" >40-44</th>\n",
       "                        <td id=\"T_3b7eb28e_da30_11e9_932d_f40f241f39e4row7_col0\" class=\"data row7 col0\" >1.91%</td>\n",
       "                        <td id=\"T_3b7eb28e_da30_11e9_932d_f40f241f39e4row7_col1\" class=\"data row7 col1\" >11</td>\n",
       "            </tr>\n",
       "            <tr>\n",
       "                        <th id=\"T_3b7eb28e_da30_11e9_932d_f40f241f39e4level0_row8\" class=\"row_heading level0 row8\" >45-49</th>\n",
       "                        <td id=\"T_3b7eb28e_da30_11e9_932d_f40f241f39e4row8_col0\" class=\"data row8 col0\" >0.17%</td>\n",
       "                        <td id=\"T_3b7eb28e_da30_11e9_932d_f40f241f39e4row8_col1\" class=\"data row8 col1\" >1</td>\n",
       "            </tr>\n",
       "    </tbody></table>"
      ],
      "text/plain": [
       "<pandas.io.formats.style.Styler at 0x11b721828>"
      ]
     },
     "execution_count": 7,
     "metadata": {},
     "output_type": "execute_result"
    }
   ],
   "source": [
    "#create bins for age, create df for non-duplicate players per age bracket, and find percetage of players\n",
    "tenyears = df[df[\"Age\"] <10]\n",
    "loteens = df[(df[\"Age\"] >=10) & (df[\"Age\"] <=14)]\n",
    "hiteens = df[(df[\"Age\"] >=15) & (df[\"Age\"] <=19)]\n",
    "lotwent = df[(df[\"Age\"] >=20) & (df[\"Age\"] <=24)]\n",
    "hitwent = df[(df[\"Age\"] >=25) & (df[\"Age\"] <=29)]\n",
    "lothirt = df[(df[\"Age\"] >=30) & (df[\"Age\"] <=34)]\n",
    "hithirt = df[(df[\"Age\"] >=35) & (df[\"Age\"] <=39)]\n",
    "loforty = df[(df[\"Age\"] >=40) & (df[\"Age\"] <=44)]\n",
    "hiforty = df[(df[\"Age\"] >=45) & (df[\"Age\"] <=49)]\n",
    "\n",
    "age_demo_df = pd.DataFrame({\"Age\": [\"<10\", \"10-14\", \"15-19\", \"20-24\", \"25-29\", \"30-34\", \"35-39\", \"40-44\", \"45-49\"],\n",
    "                        \"Percentage of Players\": [(tenyears[\"SN\"].nunique()/total_players)*100, (loteens[\"SN\"].nunique()/total_players)*100, (hiteens[\"SN\"].nunique()/total_players)*100, (lotwent[\"SN\"].nunique()/total_players)*100, (hitwent[\"SN\"].nunique()/total_players)*100, (lothirt[\"SN\"].nunique()/total_players)*100, (hithirt[\"SN\"].nunique()/total_players)*100, (loforty[\"SN\"].nunique()/total_players)*100, (hiforty[\"SN\"].nunique()/total_players)*100],\n",
    "                        \"Total Count\": [tenyears[\"SN\"].nunique(), loteens[\"SN\"].nunique(), hiteens[\"SN\"].nunique(), lotwent[\"SN\"].nunique(), hitwent[\"SN\"].nunique(), lothirt[\"SN\"].nunique(), hithirt[\"SN\"].nunique(), loforty[\"SN\"].nunique(), hiforty[\"SN\"].nunique()]\n",
    "                       })\n",
    "\n",
    "age_demo_final = age_demo_df.set_index(\"Age\")\n",
    "age_demo_final.style.format({\"Percentage of Players\": \"{:.2f}%\"}) "
   ]
  },
  {
   "cell_type": "markdown",
   "metadata": {},
   "source": [
    "## Purchasing Analysis (Age)"
   ]
  },
  {
   "cell_type": "markdown",
   "metadata": {},
   "source": [
    "* Bin the purchase_data data frame by age\n",
    "\n",
    "\n",
    "* Run basic calculations to obtain purchase count, avg. purchase price, avg. purchase total per person etc. in the table below\n",
    "\n",
    "\n",
    "* Create a summary data frame to hold the results\n",
    "\n",
    "\n",
    "* Optional: give the displayed data cleaner formatting\n",
    "\n",
    "\n",
    "* Display the summary data frame"
   ]
  },
  {
   "cell_type": "code",
   "execution_count": 22,
   "metadata": {},
   "outputs": [
    {
     "data": {
      "text/html": [
       "<style  type=\"text/css\" >\n",
       "</style><table id=\"T_7130792c_da34_11e9_932d_f40f241f39e4\" ><thead>    <tr>        <th class=\"blank level0\" ></th>        <th class=\"col_heading level0 col0\" >Purchase Count</th>        <th class=\"col_heading level0 col1\" >Average Purchase Price</th>        <th class=\"col_heading level0 col2\" >Total Purchase Value</th>        <th class=\"col_heading level0 col3\" >Avg Total Purchase per Person</th>    </tr>    <tr>        <th class=\"index_name level0\" >Age</th>        <th class=\"blank\" ></th>        <th class=\"blank\" ></th>        <th class=\"blank\" ></th>        <th class=\"blank\" ></th>    </tr></thead><tbody>\n",
       "                <tr>\n",
       "                        <th id=\"T_7130792c_da34_11e9_932d_f40f241f39e4level0_row0\" class=\"row_heading level0 row0\" ><10</th>\n",
       "                        <td id=\"T_7130792c_da34_11e9_932d_f40f241f39e4row0_col0\" class=\"data row0 col0\" >23</td>\n",
       "                        <td id=\"T_7130792c_da34_11e9_932d_f40f241f39e4row0_col1\" class=\"data row0 col1\" >$3.35</td>\n",
       "                        <td id=\"T_7130792c_da34_11e9_932d_f40f241f39e4row0_col2\" class=\"data row0 col2\" >$77.13</td>\n",
       "                        <td id=\"T_7130792c_da34_11e9_932d_f40f241f39e4row0_col3\" class=\"data row0 col3\" >$4.54</td>\n",
       "            </tr>\n",
       "            <tr>\n",
       "                        <th id=\"T_7130792c_da34_11e9_932d_f40f241f39e4level0_row1\" class=\"row_heading level0 row1\" >10-14</th>\n",
       "                        <td id=\"T_7130792c_da34_11e9_932d_f40f241f39e4row1_col0\" class=\"data row1 col0\" >28</td>\n",
       "                        <td id=\"T_7130792c_da34_11e9_932d_f40f241f39e4row1_col1\" class=\"data row1 col1\" >$2.96</td>\n",
       "                        <td id=\"T_7130792c_da34_11e9_932d_f40f241f39e4row1_col2\" class=\"data row1 col2\" >$82.78</td>\n",
       "                        <td id=\"T_7130792c_da34_11e9_932d_f40f241f39e4row1_col3\" class=\"data row1 col3\" >$3.76</td>\n",
       "            </tr>\n",
       "            <tr>\n",
       "                        <th id=\"T_7130792c_da34_11e9_932d_f40f241f39e4level0_row2\" class=\"row_heading level0 row2\" >15-19</th>\n",
       "                        <td id=\"T_7130792c_da34_11e9_932d_f40f241f39e4row2_col0\" class=\"data row2 col0\" >136</td>\n",
       "                        <td id=\"T_7130792c_da34_11e9_932d_f40f241f39e4row2_col1\" class=\"data row2 col1\" >$3.04</td>\n",
       "                        <td id=\"T_7130792c_da34_11e9_932d_f40f241f39e4row2_col2\" class=\"data row2 col2\" >$412.89</td>\n",
       "                        <td id=\"T_7130792c_da34_11e9_932d_f40f241f39e4row2_col3\" class=\"data row2 col3\" >$3.86</td>\n",
       "            </tr>\n",
       "            <tr>\n",
       "                        <th id=\"T_7130792c_da34_11e9_932d_f40f241f39e4level0_row3\" class=\"row_heading level0 row3\" >20-24</th>\n",
       "                        <td id=\"T_7130792c_da34_11e9_932d_f40f241f39e4row3_col0\" class=\"data row3 col0\" >365</td>\n",
       "                        <td id=\"T_7130792c_da34_11e9_932d_f40f241f39e4row3_col1\" class=\"data row3 col1\" >$3.05</td>\n",
       "                        <td id=\"T_7130792c_da34_11e9_932d_f40f241f39e4row3_col2\" class=\"data row3 col2\" >$1114.06</td>\n",
       "                        <td id=\"T_7130792c_da34_11e9_932d_f40f241f39e4row3_col3\" class=\"data row3 col3\" >$4.32</td>\n",
       "            </tr>\n",
       "            <tr>\n",
       "                        <th id=\"T_7130792c_da34_11e9_932d_f40f241f39e4level0_row4\" class=\"row_heading level0 row4\" >25-29</th>\n",
       "                        <td id=\"T_7130792c_da34_11e9_932d_f40f241f39e4row4_col0\" class=\"data row4 col0\" >101</td>\n",
       "                        <td id=\"T_7130792c_da34_11e9_932d_f40f241f39e4row4_col1\" class=\"data row4 col1\" >$2.90</td>\n",
       "                        <td id=\"T_7130792c_da34_11e9_932d_f40f241f39e4row4_col2\" class=\"data row4 col2\" >$293.00</td>\n",
       "                        <td id=\"T_7130792c_da34_11e9_932d_f40f241f39e4row4_col3\" class=\"data row4 col3\" >$3.81</td>\n",
       "            </tr>\n",
       "            <tr>\n",
       "                        <th id=\"T_7130792c_da34_11e9_932d_f40f241f39e4level0_row5\" class=\"row_heading level0 row5\" >30-34</th>\n",
       "                        <td id=\"T_7130792c_da34_11e9_932d_f40f241f39e4row5_col0\" class=\"data row5 col0\" >73</td>\n",
       "                        <td id=\"T_7130792c_da34_11e9_932d_f40f241f39e4row5_col1\" class=\"data row5 col1\" >$2.93</td>\n",
       "                        <td id=\"T_7130792c_da34_11e9_932d_f40f241f39e4row5_col2\" class=\"data row5 col2\" >$214.00</td>\n",
       "                        <td id=\"T_7130792c_da34_11e9_932d_f40f241f39e4row5_col3\" class=\"data row5 col3\" >$4.12</td>\n",
       "            </tr>\n",
       "            <tr>\n",
       "                        <th id=\"T_7130792c_da34_11e9_932d_f40f241f39e4level0_row6\" class=\"row_heading level0 row6\" >35-39</th>\n",
       "                        <td id=\"T_7130792c_da34_11e9_932d_f40f241f39e4row6_col0\" class=\"data row6 col0\" >41</td>\n",
       "                        <td id=\"T_7130792c_da34_11e9_932d_f40f241f39e4row6_col1\" class=\"data row6 col1\" >$3.60</td>\n",
       "                        <td id=\"T_7130792c_da34_11e9_932d_f40f241f39e4row6_col2\" class=\"data row6 col2\" >$147.67</td>\n",
       "                        <td id=\"T_7130792c_da34_11e9_932d_f40f241f39e4row6_col3\" class=\"data row6 col3\" >$4.76</td>\n",
       "            </tr>\n",
       "            <tr>\n",
       "                        <th id=\"T_7130792c_da34_11e9_932d_f40f241f39e4level0_row7\" class=\"row_heading level0 row7\" >40-44</th>\n",
       "                        <td id=\"T_7130792c_da34_11e9_932d_f40f241f39e4row7_col0\" class=\"data row7 col0\" >12</td>\n",
       "                        <td id=\"T_7130792c_da34_11e9_932d_f40f241f39e4row7_col1\" class=\"data row7 col1\" >$3.04</td>\n",
       "                        <td id=\"T_7130792c_da34_11e9_932d_f40f241f39e4row7_col2\" class=\"data row7 col2\" >$36.54</td>\n",
       "                        <td id=\"T_7130792c_da34_11e9_932d_f40f241f39e4row7_col3\" class=\"data row7 col3\" >$3.32</td>\n",
       "            </tr>\n",
       "            <tr>\n",
       "                        <th id=\"T_7130792c_da34_11e9_932d_f40f241f39e4level0_row8\" class=\"row_heading level0 row8\" >45-49</th>\n",
       "                        <td id=\"T_7130792c_da34_11e9_932d_f40f241f39e4row8_col0\" class=\"data row8 col0\" >1</td>\n",
       "                        <td id=\"T_7130792c_da34_11e9_932d_f40f241f39e4row8_col1\" class=\"data row8 col1\" >$1.70</td>\n",
       "                        <td id=\"T_7130792c_da34_11e9_932d_f40f241f39e4row8_col2\" class=\"data row8 col2\" >$1.70</td>\n",
       "                        <td id=\"T_7130792c_da34_11e9_932d_f40f241f39e4row8_col3\" class=\"data row8 col3\" >$1.70</td>\n",
       "            </tr>\n",
       "    </tbody></table>"
      ],
      "text/plain": [
       "<pandas.io.formats.style.Styler at 0x11b6f3f60>"
      ]
     },
     "execution_count": 22,
     "metadata": {},
     "output_type": "execute_result"
    }
   ],
   "source": [
    "#bin purchase_data by frame, create data frame and store df in variable, finding purchase count, average purchase price, total pruchase value, and avg total purchases per person\n",
    "age_purchasing_df = pd.DataFrame({\"Age\": [\"<10\", \"10-14\", \"15-19\", \"20-24\", \"25-29\", \"30-34\", \"35-39\", \"40-44\", \"45-49\"],\n",
    "\"Purchase Count\": [tenyears[\"Price\"].count(), loteens[\"Price\"].count(), hiteens[\"Price\"].count(), lotwent[\"Price\"].count(), hitwent[\"Price\"].count(), lothirt[\"Price\"].count(), hithirt[\"Price\"].count(), loforty[\"Price\"].count(), hiforty[\"Price\"].count()],\n",
    "\"Average Purchase Price\": [tenyears[\"Price\"].mean(), loteens[\"Price\"].mean(), hiteens[\"Price\"].mean(), lotwent[\"Price\"].mean(), hitwent[\"Price\"].mean(), lothirt[\"Price\"].mean(), hithirt[\"Price\"].mean(), loforty[\"Price\"].mean(), hiforty[\"Price\"].mean()], \n",
    "\"Total Purchase Value\": [tenyears[\"Price\"].sum(), loteens[\"Price\"].sum(), hiteens[\"Price\"].sum(), lotwent[\"Price\"].sum(), hitwent[\"Price\"].sum(), lothirt[\"Price\"].sum(), hithirt[\"Price\"].sum(), loforty[\"Price\"].sum(), hiforty[\"Price\"].sum()],\n",
    "\"Avg Total Purchase per Person\": [tenyears[\"Price\"].sum()/tenyears['SN'].nunique(), loteens[\"Price\"].sum()/loteens['SN'].nunique(), hiteens[\"Price\"].sum()/hiteens['SN'].nunique(), \n",
    "lotwent[\"Price\"].sum()/lotwent['SN'].nunique(), hitwent[\"Price\"].sum()/hitwent['SN'].nunique(), \n",
    "lothirt[\"Price\"].sum()/lothirt['SN'].nunique(), hithirt[\"Price\"].sum()/hithirt['SN'].nunique(), \n",
    "loforty[\"Price\"].sum()/loforty['SN'].nunique(), hiforty[\"Price\"].sum()/hiforty['SN'].nunique()]}, \n",
    "                             columns = \n",
    "                            [\"Age\", \"Purchase Count\", \"Average Purchase Price\", \"Total Purchase Value\", \"Avg Total Purchase per Person\"])\n",
    "#set index as age and store in variable, format to 2 decimal places and display\n",
    "age_purchasing_final = age_purchasing_df.set_index(\"Age\")\n",
    "\n",
    "age_purchasing_final.style.format({\"Average Purchase Price\": \"${:.2f}\", \"Total Purchase Value\": \"${:.2f}\", \"Avg Total Purchase per Person\": \"${:.2f}\"})"
   ]
  },
  {
   "cell_type": "markdown",
   "metadata": {},
   "source": [
    "## Top Spenders"
   ]
  },
  {
   "cell_type": "markdown",
   "metadata": {},
   "source": [
    "* Run basic calculations to obtain the results in the table below\n",
    "\n",
    "\n",
    "* Create a summary data frame to hold the results\n",
    "\n",
    "\n",
    "* Sort the total purchase value column in descending order\n",
    "\n",
    "\n",
    "* Optional: give the displayed data cleaner formatting\n",
    "\n",
    "\n",
    "* Display a preview of the summary data frame\n",
    "\n"
   ]
  },
  {
   "cell_type": "code",
   "execution_count": 9,
   "metadata": {},
   "outputs": [
    {
     "data": {
      "text/html": [
       "<style  type=\"text/css\" >\n",
       "</style><table id=\"T_3f83c072_da30_11e9_932d_f40f241f39e4\" ><thead>    <tr>        <th class=\"blank level0\" ></th>        <th class=\"col_heading level0 col0\" >Total Purchase Value</th>        <th class=\"col_heading level0 col1\" >Purchase Count</th>        <th class=\"col_heading level0 col2\" >Average Purchase Price</th>    </tr>    <tr>        <th class=\"index_name level0\" >SN</th>        <th class=\"blank\" ></th>        <th class=\"blank\" ></th>        <th class=\"blank\" ></th>    </tr></thead><tbody>\n",
       "                <tr>\n",
       "                        <th id=\"T_3f83c072_da30_11e9_932d_f40f241f39e4level0_row0\" class=\"row_heading level0 row0\" >Lisosia93</th>\n",
       "                        <td id=\"T_3f83c072_da30_11e9_932d_f40f241f39e4row0_col0\" class=\"data row0 col0\" >$18.96</td>\n",
       "                        <td id=\"T_3f83c072_da30_11e9_932d_f40f241f39e4row0_col1\" class=\"data row0 col1\" >5</td>\n",
       "                        <td id=\"T_3f83c072_da30_11e9_932d_f40f241f39e4row0_col2\" class=\"data row0 col2\" >$3.79</td>\n",
       "            </tr>\n",
       "            <tr>\n",
       "                        <th id=\"T_3f83c072_da30_11e9_932d_f40f241f39e4level0_row1\" class=\"row_heading level0 row1\" >Idastidru52</th>\n",
       "                        <td id=\"T_3f83c072_da30_11e9_932d_f40f241f39e4row1_col0\" class=\"data row1 col0\" >$15.45</td>\n",
       "                        <td id=\"T_3f83c072_da30_11e9_932d_f40f241f39e4row1_col1\" class=\"data row1 col1\" >4</td>\n",
       "                        <td id=\"T_3f83c072_da30_11e9_932d_f40f241f39e4row1_col2\" class=\"data row1 col2\" >$3.86</td>\n",
       "            </tr>\n",
       "            <tr>\n",
       "                        <th id=\"T_3f83c072_da30_11e9_932d_f40f241f39e4level0_row2\" class=\"row_heading level0 row2\" >Chamjask73</th>\n",
       "                        <td id=\"T_3f83c072_da30_11e9_932d_f40f241f39e4row2_col0\" class=\"data row2 col0\" >$13.83</td>\n",
       "                        <td id=\"T_3f83c072_da30_11e9_932d_f40f241f39e4row2_col1\" class=\"data row2 col1\" >3</td>\n",
       "                        <td id=\"T_3f83c072_da30_11e9_932d_f40f241f39e4row2_col2\" class=\"data row2 col2\" >$4.61</td>\n",
       "            </tr>\n",
       "            <tr>\n",
       "                        <th id=\"T_3f83c072_da30_11e9_932d_f40f241f39e4level0_row3\" class=\"row_heading level0 row3\" >Iral74</th>\n",
       "                        <td id=\"T_3f83c072_da30_11e9_932d_f40f241f39e4row3_col0\" class=\"data row3 col0\" >$13.62</td>\n",
       "                        <td id=\"T_3f83c072_da30_11e9_932d_f40f241f39e4row3_col1\" class=\"data row3 col1\" >4</td>\n",
       "                        <td id=\"T_3f83c072_da30_11e9_932d_f40f241f39e4row3_col2\" class=\"data row3 col2\" >$3.40</td>\n",
       "            </tr>\n",
       "            <tr>\n",
       "                        <th id=\"T_3f83c072_da30_11e9_932d_f40f241f39e4level0_row4\" class=\"row_heading level0 row4\" >Iskadarya95</th>\n",
       "                        <td id=\"T_3f83c072_da30_11e9_932d_f40f241f39e4row4_col0\" class=\"data row4 col0\" >$13.10</td>\n",
       "                        <td id=\"T_3f83c072_da30_11e9_932d_f40f241f39e4row4_col1\" class=\"data row4 col1\" >3</td>\n",
       "                        <td id=\"T_3f83c072_da30_11e9_932d_f40f241f39e4row4_col2\" class=\"data row4 col2\" >$4.37</td>\n",
       "            </tr>\n",
       "    </tbody></table>"
      ],
      "text/plain": [
       "<pandas.io.formats.style.Styler at 0x11b721da0>"
      ]
     },
     "execution_count": 9,
     "metadata": {},
     "output_type": "execute_result"
    }
   ],
   "source": [
    "#Groupby SN to finf sum of purchase, number of purchases, and average price price per person\n",
    "purchase_amt_by_SN = pd.DataFrame(df.groupby('SN')['Price'].sum())\n",
    "num_purchase_by_SN = pd.DataFrame(df.groupby('SN')['Price'].count())\n",
    "avg_purchase_by_SN = pd.DataFrame(df.groupby('SN')['Price'].mean())\n",
    "\n",
    "# combine dataframes\n",
    "merged_top5 = pd.merge(purchase_amt_by_SN, num_purchase_by_SN, left_index = True, right_index = True).merge(avg_purchase_by_SN, left_index=True, right_index=True)\n",
    "\n",
    "# .rename method to rename columns\n",
    "merged_top5.rename(columns = {'Price_y':'Purchase Count', 'Price':'Average Purchase Price','Price_x': 'Total Purchase Value',}, inplace = True)\n",
    "\n",
    "# sort in decending order\n",
    "merged_top5.sort_values('Total Purchase Value', ascending = False, inplace=True)\n",
    "\n",
    "# display first 5 rows and populate to merged_top5 variable\n",
    "merged_top5 = merged_top5.head()\n",
    "\n",
    "# format rounding to 2 decimal places\n",
    "merged_top5.style.format({'Total Purchase Value': '${:.2f}', 'Average Purchase Price': '${:.2f}'})\n",
    "\n",
    "\n"
   ]
  },
  {
   "cell_type": "markdown",
   "metadata": {},
   "source": [
    "## Most Popular Items"
   ]
  },
  {
   "cell_type": "markdown",
   "metadata": {},
   "source": [
    "* Retrieve the Item ID, Item Name, and Item Price columns\n",
    "\n",
    "\n",
    "* Group by Item ID and Item Name. Perform calculations to obtain purchase count, item price, and total purchase value\n",
    "\n",
    "\n",
    "* Create a summary data frame to hold the results\n",
    "\n",
    "\n",
    "* Sort the purchase count column in descending order\n",
    "\n",
    "\n",
    "* Optional: give the displayed data cleaner formatting\n",
    "\n",
    "\n",
    "* Display a preview of the summary data frame\n",
    "\n"
   ]
  },
  {
   "cell_type": "code",
   "execution_count": 23,
   "metadata": {},
   "outputs": [
    {
     "data": {
      "text/html": [
       "<style  type=\"text/css\" >\n",
       "</style><table id=\"T_9db8938a_da34_11e9_932d_f40f241f39e4\" ><thead>    <tr>        <th class=\"blank\" ></th>        <th class=\"blank level0\" ></th>        <th class=\"col_heading level0 col0\" >Purchase Count</th>        <th class=\"col_heading level0 col1\" >Item Price</th>        <th class=\"col_heading level0 col2\" >Total Purchase Value</th>    </tr>    <tr>        <th class=\"index_name level0\" >Item Name</th>        <th class=\"index_name level1\" >Item ID</th>        <th class=\"blank\" ></th>        <th class=\"blank\" ></th>        <th class=\"blank\" ></th>    </tr></thead><tbody>\n",
       "                <tr>\n",
       "                        <th id=\"T_9db8938a_da34_11e9_932d_f40f241f39e4level0_row0\" class=\"row_heading level0 row0\" >Oathbreaker, Last Hope of the Breaking Storm</th>\n",
       "                        <th id=\"T_9db8938a_da34_11e9_932d_f40f241f39e4level1_row0\" class=\"row_heading level1 row0\" >178</th>\n",
       "                        <td id=\"T_9db8938a_da34_11e9_932d_f40f241f39e4row0_col0\" class=\"data row0 col0\" >12</td>\n",
       "                        <td id=\"T_9db8938a_da34_11e9_932d_f40f241f39e4row0_col1\" class=\"data row0 col1\" >$4.23</td>\n",
       "                        <td id=\"T_9db8938a_da34_11e9_932d_f40f241f39e4row0_col2\" class=\"data row0 col2\" >$50.76</td>\n",
       "            </tr>\n",
       "            <tr>\n",
       "                        <th id=\"T_9db8938a_da34_11e9_932d_f40f241f39e4level0_row1\" class=\"row_heading level0 row1\" >Nirvana</th>\n",
       "                        <th id=\"T_9db8938a_da34_11e9_932d_f40f241f39e4level1_row1\" class=\"row_heading level1 row1\" >82</th>\n",
       "                        <td id=\"T_9db8938a_da34_11e9_932d_f40f241f39e4row1_col0\" class=\"data row1 col0\" >9</td>\n",
       "                        <td id=\"T_9db8938a_da34_11e9_932d_f40f241f39e4row1_col1\" class=\"data row1 col1\" >$4.90</td>\n",
       "                        <td id=\"T_9db8938a_da34_11e9_932d_f40f241f39e4row1_col2\" class=\"data row1 col2\" >$44.10</td>\n",
       "            </tr>\n",
       "            <tr>\n",
       "                        <th id=\"T_9db8938a_da34_11e9_932d_f40f241f39e4level0_row2\" class=\"row_heading level0 row2\" >Fiery Glass Crusader</th>\n",
       "                        <th id=\"T_9db8938a_da34_11e9_932d_f40f241f39e4level1_row2\" class=\"row_heading level1 row2\" >145</th>\n",
       "                        <td id=\"T_9db8938a_da34_11e9_932d_f40f241f39e4row2_col0\" class=\"data row2 col0\" >9</td>\n",
       "                        <td id=\"T_9db8938a_da34_11e9_932d_f40f241f39e4row2_col1\" class=\"data row2 col1\" >$4.58</td>\n",
       "                        <td id=\"T_9db8938a_da34_11e9_932d_f40f241f39e4row2_col2\" class=\"data row2 col2\" >$41.22</td>\n",
       "            </tr>\n",
       "            <tr>\n",
       "                        <th id=\"T_9db8938a_da34_11e9_932d_f40f241f39e4level0_row3\" class=\"row_heading level0 row3\" >Extraction, Quickblade Of Trembling Hands</th>\n",
       "                        <th id=\"T_9db8938a_da34_11e9_932d_f40f241f39e4level1_row3\" class=\"row_heading level1 row3\" >108</th>\n",
       "                        <td id=\"T_9db8938a_da34_11e9_932d_f40f241f39e4row3_col0\" class=\"data row3 col0\" >9</td>\n",
       "                        <td id=\"T_9db8938a_da34_11e9_932d_f40f241f39e4row3_col1\" class=\"data row3 col1\" >$3.53</td>\n",
       "                        <td id=\"T_9db8938a_da34_11e9_932d_f40f241f39e4row3_col2\" class=\"data row3 col2\" >$31.77</td>\n",
       "            </tr>\n",
       "            <tr>\n",
       "                        <th id=\"T_9db8938a_da34_11e9_932d_f40f241f39e4level0_row4\" class=\"row_heading level0 row4\" >Singed Scalpel</th>\n",
       "                        <th id=\"T_9db8938a_da34_11e9_932d_f40f241f39e4level1_row4\" class=\"row_heading level1 row4\" >103</th>\n",
       "                        <td id=\"T_9db8938a_da34_11e9_932d_f40f241f39e4row4_col0\" class=\"data row4 col0\" >8</td>\n",
       "                        <td id=\"T_9db8938a_da34_11e9_932d_f40f241f39e4row4_col1\" class=\"data row4 col1\" >$4.35</td>\n",
       "                        <td id=\"T_9db8938a_da34_11e9_932d_f40f241f39e4row4_col2\" class=\"data row4 col2\" >$34.80</td>\n",
       "            </tr>\n",
       "    </tbody></table>"
      ],
      "text/plain": [
       "<pandas.io.formats.style.Styler at 0x119d7fc88>"
      ]
     },
     "execution_count": 23,
     "metadata": {},
     "output_type": "execute_result"
    }
   ],
   "source": [
    "#ccombine dataframes and find purchase count, total purchase value for items, and reset index to dataframes\n",
    "premergeone = df.groupby(\"Item Name\").sum().reset_index()\n",
    "premergetwo = df.groupby(\"Item ID\").sum().reset_index()\n",
    "premergethree = df.groupby(\"Item Name\").count().reset_index()\n",
    "\n",
    "#combine df's\n",
    "mergeone = pd.merge(premergeone, premergetwo, on=\"Price\")\n",
    "mergetwo = pd.merge(premergethree, mergeone, on=\"Item Name\")\n",
    "\n",
    "#manipulate data to create final df, and get columns \n",
    "mergetwo[\"Gender\"] = (mergetwo[\"Price_y\"]/mergetwo[\"Item ID\"]).round(2)\n",
    "mergetwo_renamed = mergetwo.rename(columns={\"Age\": \"Purchase Count\", \"Gender\": \"Item Price\", \"Item ID\": \"null\", \"Price_y\": \"Total Purchase Value\", \"Item ID_y\": \"Item ID\"})\n",
    "clean_df = mergetwo_renamed[[\"Item ID\", \"Item Name\", \"Purchase Count\", \"Item Price\", \"Total Purchase Value\"]]\n",
    "\n",
    "#set_index, sort values in decending order, and format to 2 decimal places\n",
    "prefinal_df = clean_df.set_index(['Item Name', 'Item ID'])\n",
    "popular_items_final = prefinal_df.sort_values('Purchase Count', ascending=False).head()\n",
    "popular_items_final.style.format({\"Item Price\": \"${:.2f}\", \"Total Purchase Value\": \"${:.2f}\"})"
   ]
  },
  {
   "cell_type": "markdown",
   "metadata": {},
   "source": [
    "## Most Profitable Items"
   ]
  },
  {
   "cell_type": "markdown",
   "metadata": {},
   "source": [
    "* Sort the above table by total purchase value in descending order\n",
    "\n",
    "\n",
    "* Optional: give the displayed data cleaner formatting\n",
    "\n",
    "\n",
    "* Display a preview of the data frame\n",
    "\n"
   ]
  },
  {
   "cell_type": "code",
   "execution_count": 13,
   "metadata": {
    "scrolled": true
   },
   "outputs": [
    {
     "data": {
      "text/html": [
       "<style  type=\"text/css\" >\n",
       "</style><table id=\"T_90cfea00_da30_11e9_932d_f40f241f39e4\" ><thead>    <tr>        <th class=\"blank\" ></th>        <th class=\"blank level0\" ></th>        <th class=\"col_heading level0 col0\" >Purchase Count</th>        <th class=\"col_heading level0 col1\" >Item Price</th>        <th class=\"col_heading level0 col2\" >Total Purchase Value</th>    </tr>    <tr>        <th class=\"index_name level0\" >Item Name</th>        <th class=\"index_name level1\" >Item ID</th>        <th class=\"blank\" ></th>        <th class=\"blank\" ></th>        <th class=\"blank\" ></th>    </tr></thead><tbody>\n",
       "                <tr>\n",
       "                        <th id=\"T_90cfea00_da30_11e9_932d_f40f241f39e4level0_row0\" class=\"row_heading level0 row0\" >Oathbreaker, Last Hope of the Breaking Storm</th>\n",
       "                        <th id=\"T_90cfea00_da30_11e9_932d_f40f241f39e4level1_row0\" class=\"row_heading level1 row0\" >178</th>\n",
       "                        <td id=\"T_90cfea00_da30_11e9_932d_f40f241f39e4row0_col0\" class=\"data row0 col0\" >12</td>\n",
       "                        <td id=\"T_90cfea00_da30_11e9_932d_f40f241f39e4row0_col1\" class=\"data row0 col1\" >$4.23</td>\n",
       "                        <td id=\"T_90cfea00_da30_11e9_932d_f40f241f39e4row0_col2\" class=\"data row0 col2\" >$50.76</td>\n",
       "            </tr>\n",
       "            <tr>\n",
       "                        <th id=\"T_90cfea00_da30_11e9_932d_f40f241f39e4level0_row1\" class=\"row_heading level0 row1\" >Nirvana</th>\n",
       "                        <th id=\"T_90cfea00_da30_11e9_932d_f40f241f39e4level1_row1\" class=\"row_heading level1 row1\" >82</th>\n",
       "                        <td id=\"T_90cfea00_da30_11e9_932d_f40f241f39e4row1_col0\" class=\"data row1 col0\" >9</td>\n",
       "                        <td id=\"T_90cfea00_da30_11e9_932d_f40f241f39e4row1_col1\" class=\"data row1 col1\" >$4.90</td>\n",
       "                        <td id=\"T_90cfea00_da30_11e9_932d_f40f241f39e4row1_col2\" class=\"data row1 col2\" >$44.10</td>\n",
       "            </tr>\n",
       "            <tr>\n",
       "                        <th id=\"T_90cfea00_da30_11e9_932d_f40f241f39e4level0_row2\" class=\"row_heading level0 row2\" >Fiery Glass Crusader</th>\n",
       "                        <th id=\"T_90cfea00_da30_11e9_932d_f40f241f39e4level1_row2\" class=\"row_heading level1 row2\" >145</th>\n",
       "                        <td id=\"T_90cfea00_da30_11e9_932d_f40f241f39e4row2_col0\" class=\"data row2 col0\" >9</td>\n",
       "                        <td id=\"T_90cfea00_da30_11e9_932d_f40f241f39e4row2_col1\" class=\"data row2 col1\" >$4.58</td>\n",
       "                        <td id=\"T_90cfea00_da30_11e9_932d_f40f241f39e4row2_col2\" class=\"data row2 col2\" >$41.22</td>\n",
       "            </tr>\n",
       "            <tr>\n",
       "                        <th id=\"T_90cfea00_da30_11e9_932d_f40f241f39e4level0_row3\" class=\"row_heading level0 row3\" >Singed Scalpel</th>\n",
       "                        <th id=\"T_90cfea00_da30_11e9_932d_f40f241f39e4level1_row3\" class=\"row_heading level1 row3\" >103</th>\n",
       "                        <td id=\"T_90cfea00_da30_11e9_932d_f40f241f39e4row3_col0\" class=\"data row3 col0\" >8</td>\n",
       "                        <td id=\"T_90cfea00_da30_11e9_932d_f40f241f39e4row3_col1\" class=\"data row3 col1\" >$4.35</td>\n",
       "                        <td id=\"T_90cfea00_da30_11e9_932d_f40f241f39e4row3_col2\" class=\"data row3 col2\" >$34.80</td>\n",
       "            </tr>\n",
       "            <tr>\n",
       "                        <th id=\"T_90cfea00_da30_11e9_932d_f40f241f39e4level0_row4\" class=\"row_heading level0 row4\" >Lightning, Etcher of the King</th>\n",
       "                        <th id=\"T_90cfea00_da30_11e9_932d_f40f241f39e4level1_row4\" class=\"row_heading level1 row4\" >59</th>\n",
       "                        <td id=\"T_90cfea00_da30_11e9_932d_f40f241f39e4row4_col0\" class=\"data row4 col0\" >8</td>\n",
       "                        <td id=\"T_90cfea00_da30_11e9_932d_f40f241f39e4row4_col1\" class=\"data row4 col1\" >$4.23</td>\n",
       "                        <td id=\"T_90cfea00_da30_11e9_932d_f40f241f39e4row4_col2\" class=\"data row4 col2\" >$33.84</td>\n",
       "            </tr>\n",
       "    </tbody></table>"
      ],
      "text/plain": [
       "<pandas.io.formats.style.Styler at 0x11b698f60>"
      ]
     },
     "execution_count": 13,
     "metadata": {},
     "output_type": "execute_result"
    }
   ],
   "source": [
    "#find most profitable items with prefinal_df\n",
    "\n",
    "most_profitable_items = prefinal_df.sort_values('Total Purchase Value', ascending=False).head()\n",
    "most_profitable_items.style.format({\"Item Price\": \"${:.2f}\", \"Total Purchase Value\": \"${:.2f}\"})"
   ]
  },
  {
   "cell_type": "code",
   "execution_count": null,
   "metadata": {},
   "outputs": [],
   "source": []
  }
 ],
 "metadata": {
  "anaconda-cloud": {},
  "kernel_info": {
   "name": "python3"
  },
  "kernelspec": {
   "display_name": "Python 3",
   "language": "python",
   "name": "python3"
  },
  "language_info": {
   "codemirror_mode": {
    "name": "ipython",
    "version": 3
   },
   "file_extension": ".py",
   "mimetype": "text/x-python",
   "name": "python",
   "nbconvert_exporter": "python",
   "pygments_lexer": "ipython3",
   "version": "3.7.3"
  },
  "latex_envs": {
   "LaTeX_envs_menu_present": true,
   "autoclose": false,
   "autocomplete": true,
   "bibliofile": "biblio.bib",
   "cite_by": "apalike",
   "current_citInitial": 1,
   "eqLabelWithNumbers": true,
   "eqNumInitial": 1,
   "hotkeys": {
    "equation": "Ctrl-E",
    "itemize": "Ctrl-I"
   },
   "labels_anchors": false,
   "latex_user_defs": false,
   "report_style_numbering": false,
   "user_envs_cfg": false
  },
  "nteract": {
   "version": "0.2.0"
  }
 },
 "nbformat": 4,
 "nbformat_minor": 2
}
